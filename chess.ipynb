{
  "nbformat": 4,
  "nbformat_minor": 0,
  "metadata": {
    "colab": {
      "name": "chess.ipynb",
      "provenance": [],
      "collapsed_sections": []
    },
    "kernelspec": {
      "name": "python3",
      "display_name": "Python 3"
    },
    "language_info": {
      "name": "python"
    }
  },
  "cells": [
    {
      "cell_type": "code",
      "metadata": {
        "id": "n29MBRpKBO4y"
      },
      "source": [
        "import chess.pgn\n",
        "import requests\n",
        "\n",
        "x = requests.get('https://raw.githubusercontent.com/tuttlepower/tuttlepower/master/tuttlepower_games.pgn')"
      ],
      "execution_count": null,
      "outputs": []
    },
    {
      "cell_type": "code",
      "metadata": {
        "id": "SJl8ig0FtlMb"
      },
      "source": [
        "class Game:\n",
        "  def __init__(self, event, site, date, white,black,result,UTCDate,UTCTime,WhiteElo,BlackElo,WhiteRatingDiff,BlackRatingDiff,Variant,TimeControl,ECO,Termination,Moves):\n",
        "    self.event = event\n",
        "    self.site = site \n",
        "    self.date = date\n",
        "    self.white = white\n",
        "    self.black = black\n",
        "    self.result = result\n",
        "    self.UTCDate = UTCDate\n",
        "    self.UTCTime = UTCTime\n",
        "    self.WhiteElo = WhiteElo\n",
        "    self.BlackElo = BlackElo\n",
        "    self.WhiteRatingDiff = WhiteRatingDiff\n",
        "    self.BlackRatingDiff = BlackRatingDiff\n",
        "    self.Variant = Variant\n",
        "    self.TimeControl = TimeControl\n",
        "    self.ECO = ECO\n",
        "    self.Termination = Termination\n",
        "    self.Moves = Moves"
      ],
      "execution_count": null,
      "outputs": []
    },
    {
      "cell_type": "code",
      "metadata": {
        "id": "5BYL5PW-Pgdo"
      },
      "source": [
        "def game_parser(game):\n",
        "  test = game.replace('[','').replace(']','').replace('\"','')\n",
        "  Event = test[test.find('Event'):test.find('Site')].replace('Event ','')\n",
        "  Site = test[test.find('Site'):test.find('Date')].replace('Site ','')\n",
        "  Date = test[test.find('Date'):test.find('White')].replace('Date ','')\n",
        "  White = test[test.find('White'):test.find('Black')].replace('White ','')\n",
        "  Black = test[test.find('Black'):test.find('Result')].replace('Black ','')\n",
        "  Result = test[test.find('Result'):test.find('UTCDate')].replace('Result ','')\n",
        "  UTCDate = test[test.find('UTCDate'):test.find('UTCTime')].replace('UTCDate ','')\n",
        "  UTCTime = test[test.find('UTCTime'):test.find('WhiteElo')].replace('UTCTime ','')\n",
        "  WhiteElo = test[test.find('WhiteElo'):test.find('BlackElo')].replace('WhiteElo ','')\n",
        "  BlackElo = test[test.find('BlackElo'):test.find('WhiteRatingDiff')].replace('BlackElo ','')\n",
        "  WhiteRatingDiff = test[test.find('WhiteRatingDiff'):test.find('BlackRatingDiff')].replace('WhiteRatingDiff ','')\n",
        "  BlackRatingDiff = test[test.find('BlackRatingDiff'):test.find('Variant')].replace('BlackRatingDiff ','')\n",
        "  Variant = test[test.find('Variant'):test.find('TimeControl')].replace('Variant ','')\n",
        "  TimeControl = test[test.find('TimeControl'):test.find('ECO')].replace('TimeControl ','')\n",
        "  ECO = test[test.find('ECO'):test.find('Termination')].replace('ECO ','')\n",
        "  Termination = test[test.find('Termination'):test.find('1.')].replace('Termination ','')\n",
        "  Moves = test[test.find('1. '):]\n",
        "  single_game=Game(Event,Site,Date,White,Black,Result,UTCDate,UTCTime,WhiteElo,BlackElo,WhiteRatingDiff,BlackRatingDiff,Variant,TimeControl,ECO,Termination, Moves)\n",
        "  return single_game"
      ],
      "execution_count": null,
      "outputs": []
    },
    {
      "cell_type": "code",
      "metadata": {
        "colab": {
          "base_uri": "https://localhost:8080/"
        },
        "id": "Rnxptn4-REvy",
        "outputId": "cefa7a8d-5dca-448c-d195-da0a7f9b6ffa"
      },
      "source": [
        "i = 0\n",
        "my_games = []\n",
        "total = x.text.count('Event')\n",
        "while len(my_games)<total:\n",
        "  j = x.text.find('[Event',i+1)\n",
        "  game_parsed = game_parser(x.text[i:j])\n",
        "  my_games.append(game_parsed)\n",
        "  i=j\n",
        "\n",
        "print(my_games[0].Moves)"
      ],
      "execution_count": null,
      "outputs": [
        {
          "output_type": "stream",
          "text": [
            "1. e4 e5 2. Nc3 Nf6 3. Nf3 Nc6 4. Bc4 Bc5 5. O-O O-O 6. a3 d6 7. h3 b6 8. Nd5 Bb7 9. Bb5 Nd4 10. Nxd4 Bxd4 11. c3 Bc5 12. d4 exd4 13. cxd4 Nxe4 14. dxc5 Nxc5 15. a4 c6 16. Bxc6 Bxc6 17. b4 Ne6 18. b5 Bb7 19. Re1 Nc5 20. Ba3 Re8 21. Rxe8+ Qxe8 22. Bxc5 dxc5 23. Nc7 Qe4 24. f3 Qe3+ 25. Kf1 Rf8 26. Rc1 Qf4 27. Nd5 Bxd5 28. Qxd5 Qxa4 29. Rd1 Qxb5+ 30. Ke1 Qb4+ 31. Kf2 Qb2+ 32. Kg3 h6 33. Rd2 Qf6 34. f4 Qg6+ 35. Kf3 Qh5+ 36. g4 Qxh3+ 37. Ke4 Qxg4 38. Qb7 Re8+ 39. Kd3 Qf5+ 40. Kc3 a5 41. Qxb6 Re3+ 42. Kc4 Qxf4+ 43. Kb5 Rb3+ 44. Kxc5 Rxb6 45. Rd8+ Kh7 46. Rh8+ Kxh8 0-1\n",
            "\n",
            "\n",
            "\n"
          ],
          "name": "stdout"
        }
      ]
    },
    {
      "cell_type": "code",
      "metadata": {
        "colab": {
          "base_uri": "https://localhost:8080/"
        },
        "id": "JuICBZy4Pz4R",
        "outputId": "9fd7f390-7cfd-4461-dbdd-b24a6a83c126"
      },
      "source": [
        "print(my_games[2000].site)"
      ],
      "execution_count": null,
      "outputs": [
        {
          "output_type": "stream",
          "text": [
            "https://lichess.org/34ZRH8dD\n",
            "\n"
          ],
          "name": "stdout"
        }
      ]
    },
    {
      "cell_type": "code",
      "metadata": {
        "colab": {
          "base_uri": "https://localhost:8080/"
        },
        "id": "fD8VkrMwReZ9",
        "outputId": "a18618d1-1563-461f-f95b-f7e6d35ab96b"
      },
      "source": [
        "i = 0 \n",
        "print(x.text.find('[Event',i))\n",
        "i = x.text.find('[Event',i) + 1\n",
        "print(i)\n",
        "print(x.text.find('[Event',i))\n",
        "\n",
        "print(x.text[0:x.text.find('[Event',76)])"
      ],
      "execution_count": null,
      "outputs": [
        {
          "output_type": "stream",
          "text": [
            "0\n",
            "1\n",
            "916\n",
            "[Event \"Rated Rapid game\"]\n",
            "[Site \"https://lichess.org/jHV9iv8f\"]\n",
            "[Date \"2021.04.06\"]\n",
            "[White \"sreza78\"]\n",
            "[Black \"TuttlePower\"]\n",
            "[Result \"0-1\"]\n",
            "[UTCDate \"2021.04.06\"]\n",
            "[UTCTime \"23:10:11\"]\n",
            "[WhiteElo \"1433\"]\n",
            "[BlackElo \"1421\"]\n",
            "[WhiteRatingDiff \"-6\"]\n",
            "[BlackRatingDiff \"+9\"]\n",
            "[Variant \"Standard\"]\n",
            "[TimeControl \"600+0\"]\n",
            "[ECO \"C50\"]\n",
            "[Termination \"Normal\"]\n",
            "\n",
            "1. e4 e5 2. Nc3 Nf6 3. Nf3 Nc6 4. Bc4 Bc5 5. O-O O-O 6. a3 d6 7. h3 b6 8. Nd5 Bb7 9. Bb5 Nd4 10. Nxd4 Bxd4 11. c3 Bc5 12. d4 exd4 13. cxd4 Nxe4 14. dxc5 Nxc5 15. a4 c6 16. Bxc6 Bxc6 17. b4 Ne6 18. b5 Bb7 19. Re1 Nc5 20. Ba3 Re8 21. Rxe8+ Qxe8 22. Bxc5 dxc5 23. Nc7 Qe4 24. f3 Qe3+ 25. Kf1 Rf8 26. Rc1 Qf4 27. Nd5 Bxd5 28. Qxd5 Qxa4 29. Rd1 Qxb5+ 30. Ke1 Qb4+ 31. Kf2 Qb2+ 32. Kg3 h6 33. Rd2 Qf6 34. f4 Qg6+ 35. Kf3 Qh5+ 36. g4 Qxh3+ 37. Ke4 Qxg4 38. Qb7 Re8+ 39. Kd3 Qf5+ 40. Kc3 a5 41. Qxb6 Re3+ 42. Kc4 Qxf4+ 43. Kb5 Rb3+ 44. Kxc5 Rxb6 45. Rd8+ Kh7 46. Rh8+ Kxh8 0-1\n",
            "\n",
            "\n",
            "\n"
          ],
          "name": "stdout"
        }
      ]
    },
    {
      "cell_type": "code",
      "metadata": {
        "colab": {
          "base_uri": "https://localhost:8080/"
        },
        "id": "Dn59zsxfJIEX",
        "outputId": "5b755b74-c1c6-454c-ce1b-b69abc07c54c"
      },
      "source": [
        "print(len(x.text))"
      ],
      "execution_count": null,
      "outputs": [
        {
          "output_type": "stream",
          "text": [
            "3605235\n"
          ],
          "name": "stdout"
        }
      ]
    },
    {
      "cell_type": "code",
      "metadata": {
        "colab": {
          "base_uri": "https://localhost:8080/"
        },
        "id": "QhgCqu_YAOGr",
        "outputId": "0984b70f-bb59-4e42-cfa7-f4a5fced0b26"
      },
      "source": [
        "i = 0\n",
        "my_games = []\n",
        "\n",
        "while len(my_games)<5:\n",
        "  j = x.text.find('[Event',i+1)\n",
        "  my_games.append(x.text[i:j])\n",
        "  i = i+1\n",
        "\n",
        "print(my_games)\n",
        "\n",
        "# j = x.text.find('[Event',i+1)\n",
        "\n",
        "# k = x.text.find('[Event',j+1)\n",
        "\n",
        "# l = x.text.find('[Event',k+1)\n",
        "\n",
        "# m = x.text.find('[Event',l+1)\n",
        "\n",
        "# game = x.text[i:j]\n",
        "# print(x.text[i:j])\n",
        "# print(j)\n",
        "# print(x.text[j:k])\n",
        "# print(k)\n",
        "# print(x.text[k:l])\n",
        "# print(l)\n",
        "# print(x.text[l:m])\n",
        "# print(m)\n",
        "\n",
        "# while j<5:\n",
        "#   print('Game:', j)\n",
        "\n",
        "#   print(x.text.find('[Event',i))\n",
        "#   i = x.text.find('[Event',i,k) + 1\n",
        "  \n",
        "#   j=j+1\n"
      ],
      "execution_count": null,
      "outputs": [
        {
          "output_type": "stream",
          "text": [
            "['[Event \"Rated Rapid game\"]\\n[Site \"https://lichess.org/jHV9iv8f\"]\\n[Date \"2021.04.06\"]\\n[White \"sreza78\"]\\n[Black \"TuttlePower\"]\\n[Result \"0-1\"]\\n[UTCDate \"2021.04.06\"]\\n[UTCTime \"23:10:11\"]\\n[WhiteElo \"1433\"]\\n[BlackElo \"1421\"]\\n[WhiteRatingDiff \"-6\"]\\n[BlackRatingDiff \"+9\"]\\n[Variant \"Standard\"]\\n[TimeControl \"600+0\"]\\n[ECO \"C50\"]\\n[Termination \"Normal\"]\\n\\n1. e4 e5 2. Nc3 Nf6 3. Nf3 Nc6 4. Bc4 Bc5 5. O-O O-O 6. a3 d6 7. h3 b6 8. Nd5 Bb7 9. Bb5 Nd4 10. Nxd4 Bxd4 11. c3 Bc5 12. d4 exd4 13. cxd4 Nxe4 14. dxc5 Nxc5 15. a4 c6 16. Bxc6 Bxc6 17. b4 Ne6 18. b5 Bb7 19. Re1 Nc5 20. Ba3 Re8 21. Rxe8+ Qxe8 22. Bxc5 dxc5 23. Nc7 Qe4 24. f3 Qe3+ 25. Kf1 Rf8 26. Rc1 Qf4 27. Nd5 Bxd5 28. Qxd5 Qxa4 29. Rd1 Qxb5+ 30. Ke1 Qb4+ 31. Kf2 Qb2+ 32. Kg3 h6 33. Rd2 Qf6 34. f4 Qg6+ 35. Kf3 Qh5+ 36. g4 Qxh3+ 37. Ke4 Qxg4 38. Qb7 Re8+ 39. Kd3 Qf5+ 40. Kc3 a5 41. Qxb6 Re3+ 42. Kc4 Qxf4+ 43. Kb5 Rb3+ 44. Kxc5 Rxb6 45. Rd8+ Kh7 46. Rh8+ Kxh8 0-1\\n\\n\\n', 'Event \"Rated Rapid game\"]\\n[Site \"https://lichess.org/jHV9iv8f\"]\\n[Date \"2021.04.06\"]\\n[White \"sreza78\"]\\n[Black \"TuttlePower\"]\\n[Result \"0-1\"]\\n[UTCDate \"2021.04.06\"]\\n[UTCTime \"23:10:11\"]\\n[WhiteElo \"1433\"]\\n[BlackElo \"1421\"]\\n[WhiteRatingDiff \"-6\"]\\n[BlackRatingDiff \"+9\"]\\n[Variant \"Standard\"]\\n[TimeControl \"600+0\"]\\n[ECO \"C50\"]\\n[Termination \"Normal\"]\\n\\n1. e4 e5 2. Nc3 Nf6 3. Nf3 Nc6 4. Bc4 Bc5 5. O-O O-O 6. a3 d6 7. h3 b6 8. Nd5 Bb7 9. Bb5 Nd4 10. Nxd4 Bxd4 11. c3 Bc5 12. d4 exd4 13. cxd4 Nxe4 14. dxc5 Nxc5 15. a4 c6 16. Bxc6 Bxc6 17. b4 Ne6 18. b5 Bb7 19. Re1 Nc5 20. Ba3 Re8 21. Rxe8+ Qxe8 22. Bxc5 dxc5 23. Nc7 Qe4 24. f3 Qe3+ 25. Kf1 Rf8 26. Rc1 Qf4 27. Nd5 Bxd5 28. Qxd5 Qxa4 29. Rd1 Qxb5+ 30. Ke1 Qb4+ 31. Kf2 Qb2+ 32. Kg3 h6 33. Rd2 Qf6 34. f4 Qg6+ 35. Kf3 Qh5+ 36. g4 Qxh3+ 37. Ke4 Qxg4 38. Qb7 Re8+ 39. Kd3 Qf5+ 40. Kc3 a5 41. Qxb6 Re3+ 42. Kc4 Qxf4+ 43. Kb5 Rb3+ 44. Kxc5 Rxb6 45. Rd8+ Kh7 46. Rh8+ Kxh8 0-1\\n\\n\\n', 'vent \"Rated Rapid game\"]\\n[Site \"https://lichess.org/jHV9iv8f\"]\\n[Date \"2021.04.06\"]\\n[White \"sreza78\"]\\n[Black \"TuttlePower\"]\\n[Result \"0-1\"]\\n[UTCDate \"2021.04.06\"]\\n[UTCTime \"23:10:11\"]\\n[WhiteElo \"1433\"]\\n[BlackElo \"1421\"]\\n[WhiteRatingDiff \"-6\"]\\n[BlackRatingDiff \"+9\"]\\n[Variant \"Standard\"]\\n[TimeControl \"600+0\"]\\n[ECO \"C50\"]\\n[Termination \"Normal\"]\\n\\n1. e4 e5 2. Nc3 Nf6 3. Nf3 Nc6 4. Bc4 Bc5 5. O-O O-O 6. a3 d6 7. h3 b6 8. Nd5 Bb7 9. Bb5 Nd4 10. Nxd4 Bxd4 11. c3 Bc5 12. d4 exd4 13. cxd4 Nxe4 14. dxc5 Nxc5 15. a4 c6 16. Bxc6 Bxc6 17. b4 Ne6 18. b5 Bb7 19. Re1 Nc5 20. Ba3 Re8 21. Rxe8+ Qxe8 22. Bxc5 dxc5 23. Nc7 Qe4 24. f3 Qe3+ 25. Kf1 Rf8 26. Rc1 Qf4 27. Nd5 Bxd5 28. Qxd5 Qxa4 29. Rd1 Qxb5+ 30. Ke1 Qb4+ 31. Kf2 Qb2+ 32. Kg3 h6 33. Rd2 Qf6 34. f4 Qg6+ 35. Kf3 Qh5+ 36. g4 Qxh3+ 37. Ke4 Qxg4 38. Qb7 Re8+ 39. Kd3 Qf5+ 40. Kc3 a5 41. Qxb6 Re3+ 42. Kc4 Qxf4+ 43. Kb5 Rb3+ 44. Kxc5 Rxb6 45. Rd8+ Kh7 46. Rh8+ Kxh8 0-1\\n\\n\\n', 'ent \"Rated Rapid game\"]\\n[Site \"https://lichess.org/jHV9iv8f\"]\\n[Date \"2021.04.06\"]\\n[White \"sreza78\"]\\n[Black \"TuttlePower\"]\\n[Result \"0-1\"]\\n[UTCDate \"2021.04.06\"]\\n[UTCTime \"23:10:11\"]\\n[WhiteElo \"1433\"]\\n[BlackElo \"1421\"]\\n[WhiteRatingDiff \"-6\"]\\n[BlackRatingDiff \"+9\"]\\n[Variant \"Standard\"]\\n[TimeControl \"600+0\"]\\n[ECO \"C50\"]\\n[Termination \"Normal\"]\\n\\n1. e4 e5 2. Nc3 Nf6 3. Nf3 Nc6 4. Bc4 Bc5 5. O-O O-O 6. a3 d6 7. h3 b6 8. Nd5 Bb7 9. Bb5 Nd4 10. Nxd4 Bxd4 11. c3 Bc5 12. d4 exd4 13. cxd4 Nxe4 14. dxc5 Nxc5 15. a4 c6 16. Bxc6 Bxc6 17. b4 Ne6 18. b5 Bb7 19. Re1 Nc5 20. Ba3 Re8 21. Rxe8+ Qxe8 22. Bxc5 dxc5 23. Nc7 Qe4 24. f3 Qe3+ 25. Kf1 Rf8 26. Rc1 Qf4 27. Nd5 Bxd5 28. Qxd5 Qxa4 29. Rd1 Qxb5+ 30. Ke1 Qb4+ 31. Kf2 Qb2+ 32. Kg3 h6 33. Rd2 Qf6 34. f4 Qg6+ 35. Kf3 Qh5+ 36. g4 Qxh3+ 37. Ke4 Qxg4 38. Qb7 Re8+ 39. Kd3 Qf5+ 40. Kc3 a5 41. Qxb6 Re3+ 42. Kc4 Qxf4+ 43. Kb5 Rb3+ 44. Kxc5 Rxb6 45. Rd8+ Kh7 46. Rh8+ Kxh8 0-1\\n\\n\\n', 'nt \"Rated Rapid game\"]\\n[Site \"https://lichess.org/jHV9iv8f\"]\\n[Date \"2021.04.06\"]\\n[White \"sreza78\"]\\n[Black \"TuttlePower\"]\\n[Result \"0-1\"]\\n[UTCDate \"2021.04.06\"]\\n[UTCTime \"23:10:11\"]\\n[WhiteElo \"1433\"]\\n[BlackElo \"1421\"]\\n[WhiteRatingDiff \"-6\"]\\n[BlackRatingDiff \"+9\"]\\n[Variant \"Standard\"]\\n[TimeControl \"600+0\"]\\n[ECO \"C50\"]\\n[Termination \"Normal\"]\\n\\n1. e4 e5 2. Nc3 Nf6 3. Nf3 Nc6 4. Bc4 Bc5 5. O-O O-O 6. a3 d6 7. h3 b6 8. Nd5 Bb7 9. Bb5 Nd4 10. Nxd4 Bxd4 11. c3 Bc5 12. d4 exd4 13. cxd4 Nxe4 14. dxc5 Nxc5 15. a4 c6 16. Bxc6 Bxc6 17. b4 Ne6 18. b5 Bb7 19. Re1 Nc5 20. Ba3 Re8 21. Rxe8+ Qxe8 22. Bxc5 dxc5 23. Nc7 Qe4 24. f3 Qe3+ 25. Kf1 Rf8 26. Rc1 Qf4 27. Nd5 Bxd5 28. Qxd5 Qxa4 29. Rd1 Qxb5+ 30. Ke1 Qb4+ 31. Kf2 Qb2+ 32. Kg3 h6 33. Rd2 Qf6 34. f4 Qg6+ 35. Kf3 Qh5+ 36. g4 Qxh3+ 37. Ke4 Qxg4 38. Qb7 Re8+ 39. Kd3 Qf5+ 40. Kc3 a5 41. Qxb6 Re3+ 42. Kc4 Qxf4+ 43. Kb5 Rb3+ 44. Kxc5 Rxb6 45. Rd8+ Kh7 46. Rh8+ Kxh8 0-1\\n\\n\\n']\n"
          ],
          "name": "stdout"
        }
      ]
    },
    {
      "cell_type": "code",
      "metadata": {
        "colab": {
          "base_uri": "https://localhost:8080/"
        },
        "id": "azNyWpYrLmSL",
        "outputId": "ccb89cc9-5e47-4b5f-81c4-185db80bca65"
      },
      "source": [
        "i = 0\n",
        "my_games = []\n",
        "total = x.text.count('Event')\n",
        "while len(my_games)<total:\n",
        "  j = x.text.find('[Event',i+1)\n",
        "  game_parsed = game_parser(x.text[i:j])\n",
        "  my_games.append(game_parsed)\n",
        "  i=j\n",
        "\n",
        "print(my_games[0])"
      ],
      "execution_count": null,
      "outputs": [
        {
          "output_type": "stream",
          "text": [
            "[Event \"Rated Rapid game\"]\n",
            "[Site \"https://lichess.org/jHV9iv8f\"]\n",
            "[Date \"2021.04.06\"]\n",
            "[White \"sreza78\"]\n",
            "[Black \"TuttlePower\"]\n",
            "[Result \"0-1\"]\n",
            "[UTCDate \"2021.04.06\"]\n",
            "[UTCTime \"23:10:11\"]\n",
            "[WhiteElo \"1433\"]\n",
            "[BlackElo \"1421\"]\n",
            "[WhiteRatingDiff \"-6\"]\n",
            "[BlackRatingDiff \"+9\"]\n",
            "[Variant \"Standard\"]\n",
            "[TimeControl \"600+0\"]\n",
            "[ECO \"C50\"]\n",
            "[Termination \"Normal\"]\n",
            "\n",
            "1. e4 e5 2. Nc3 Nf6 3. Nf3 Nc6 4. Bc4 Bc5 5. O-O O-O 6. a3 d6 7. h3 b6 8. Nd5 Bb7 9. Bb5 Nd4 10. Nxd4 Bxd4 11. c3 Bc5 12. d4 exd4 13. cxd4 Nxe4 14. dxc5 Nxc5 15. a4 c6 16. Bxc6 Bxc6 17. b4 Ne6 18. b5 Bb7 19. Re1 Nc5 20. Ba3 Re8 21. Rxe8+ Qxe8 22. Bxc5 dxc5 23. Nc7 Qe4 24. f3 Qe3+ 25. Kf1 Rf8 26. Rc1 Qf4 27. Nd5 Bxd5 28. Qxd5 Qxa4 29. Rd1 Qxb5+ 30. Ke1 Qb4+ 31. Kf2 Qb2+ 32. Kg3 h6 33. Rd2 Qf6 34. f4 Qg6+ 35. Kf3 Qh5+ 36. g4 Qxh3+ 37. Ke4 Qxg4 38. Qb7 Re8+ 39. Kd3 Qf5+ 40. Kc3 a5 41. Qxb6 Re3+ 42. Kc4 Qxf4+ 43. Kb5 Rb3+ 44. Kxc5 Rxb6 45. Rd8+ Kh7 46. Rh8+ Kxh8 0-1\n",
            "\n",
            "\n",
            "\n"
          ],
          "name": "stdout"
        }
      ]
    },
    {
      "cell_type": "code",
      "metadata": {
        "colab": {
          "base_uri": "https://localhost:8080/"
        },
        "id": "2TAF-vPMNKKz",
        "outputId": "e612e60d-c200-43e3-8ca7-787f96e5f58f"
      },
      "source": [
        "print(my_games[4000])"
      ],
      "execution_count": null,
      "outputs": [
        {
          "output_type": "stream",
          "text": [
            "[Event \"Rated Bullet game\"]\n",
            "[Site \"https://lichess.org/2mZ33VEz\"]\n",
            "[Date \"2019.03.26\"]\n",
            "[White \"MagicAce1988\"]\n",
            "[Black \"TuttlePower\"]\n",
            "[Result \"0-1\"]\n",
            "[UTCDate \"2019.03.26\"]\n",
            "[UTCTime \"20:09:14\"]\n",
            "[WhiteElo \"1005\"]\n",
            "[BlackElo \"991\"]\n",
            "[WhiteRatingDiff \"-11\"]\n",
            "[BlackRatingDiff \"+11\"]\n",
            "[Variant \"Standard\"]\n",
            "[TimeControl \"60+0\"]\n",
            "[ECO \"B01\"]\n",
            "[Termination \"Time forfeit\"]\n",
            "\n",
            "1. e4 d5 2. exd5 Qxd5 3. Nc3 Qe6+ 4. Be2 Nf6 5. Nf3 Qd7 6. O-O e5 7. d4 exd4 8. Nxd4 Nc6 9. Bf3 Qxd4 10. Re1+ Ne4 11. Nxe4 Qxd1 12. Nf6+ Kd8 13. Rxd1+ Bd7 14. Bxc6 bxc6 15. Ne4 f5 16. Nc3 Bb4 17. Bg5+ Kc8 18. Na4 Rb8 19. c3 Bc5 20. Nxc5 Rb5 21. Nxd7 Rd8 22. Nb6+ Kb7 23. Rxd8 Rxb6 24. Rd7 Rxb2 25. Rxg7 Rxa2 26. Rxh7 Rxf2 27. Bf6 Rc2 28. Rd1 c5 29. Rxc7+ Kxc7 0-1\n",
            "\n",
            "\n",
            "\n"
          ],
          "name": "stdout"
        }
      ]
    },
    {
      "cell_type": "code",
      "metadata": {
        "id": "1583WwenT5Oh"
      },
      "source": [
        "test = game.replace('[','').replace(']','').replace('\"','')\n",
        "Event = test[test.find('Event'):test.find('Site')].replace('Event ','')\n",
        "Site = test[test.find('Site'):test.find('Date')].replace('Site ','')\n",
        "Date = test[test.find('Date'):test.find('White')].replace('Date ','')\n",
        "White = test[test.find('White'):test.find('Black')].replace('White ','')\n",
        "Black = test[test.find('Black'):test.find('Result')].replace('Black ','')\n",
        "Result = test[test.find('Result'):test.find('UTCDate')].replace('Result ','')\n",
        "UTCDate = test[test.find('UTCDate'):test.find('UTCTime')].replace('UTCDate ','')\n",
        "UTCTime = test[test.find('UTCTime'):test.find('WhiteElo')].replace('UTCTime ','')\n",
        "WhiteElo = test[test.find('WhiteElo'):test.find('BlackElo')].replace('WhiteElo ','')\n",
        "BlackElo = test[test.find('BlackElo'):test.find('WhiteRatingDiff')].replace('BlackElo ','')\n",
        "WhiteRatingDiff = test[test.find('WhiteRatingDiff'):test.find('BlackRatingDiff')].replace('WhiteRatingDiff ','')\n",
        "BlackRatingDiff = test[test.find('BlackRatingDiff'):test.find('Variant')].replace('BlackRatingDiff ','')\n",
        "Variant = test[test.find('Variant'):test.find('TimeControl')].replace('Variant ','')\n",
        "TimeControl = test[test.find('TimeControl'):test.find('ECO')].replace('TimeControl ','')\n",
        "ECO = test[test.find('ECO'):test.find('Termination')].replace('ECO ','')\n",
        "Termination = test[test.find('Termination'):test.find('1.')].replace('Termination ','')\n",
        "Moves = test[test.find('1. '):]\n",
        "single_game=Game(Event,Site,Date,White,Black,Result,UTCDate,UTCTime,WhiteElo,BlackElo,WhiteRatingDiff,BlackRatingDiff,Variant,TimeControl,ECO,Termination, Moves)"
      ],
      "execution_count": null,
      "outputs": []
    },
    {
      "cell_type": "code",
      "metadata": {
        "colab": {
          "base_uri": "https://localhost:8080/"
        },
        "id": "7PItdhUkdOsK",
        "outputId": "cda5b704-ce14-4d65-b050-8c795b131bee"
      },
      "source": [
        "print(single_game.Moves)"
      ],
      "execution_count": null,
      "outputs": [
        {
          "output_type": "stream",
          "text": [
            "1. e4 e5 2. Nc3 Nf6 3. Nf3 Nc6 4. Bc4 Bc5 5. O-O O-O 6. a3 d6 7. h3 b6 8. Nd5 Bb7 9. Bb5 Nd4 10. Nxd4 Bxd4 11. c3 Bc5 12. d4 exd4 13. cxd4 Nxe4 14. dxc5 Nxc5 15. a4 c6 16. Bxc6 Bxc6 17. b4 Ne6 18. b5 Bb7 19. Re1 Nc5 20. Ba3 Re8 21. Rxe8+ Qxe8 22. Bxc5 dxc5 23. Nc7 Qe4 24. f3 Qe3+ 25. Kf1 Rf8 26. Rc1 Qf4 27. Nd5 Bxd5 28. Qxd5 Qxa4 29. Rd1 Qxb5+ 30. Ke1 Qb4+ 31. Kf2 Qb2+ 32. Kg3 h6 33. Rd2 Qf6 34. f4 Qg6+ 35. Kf3 Qh5+ 36. g4 Qxh3+ 37. Ke4 Qxg4 38. Qb7 Re8+ 39. Kd3 Qf5+ 40. Kc3 a5 41. Qxb6 Re3+ 42. Kc4 Qxf4+ 43. Kb5 Rb3+ 44. Kxc5 Rxb6 45. Rd8+ Kh7 46. Rh8+ Kxh8 0-1\n",
            "\n",
            "\n",
            "\n"
          ],
          "name": "stdout"
        }
      ]
    },
    {
      "cell_type": "code",
      "metadata": {
        "colab": {
          "base_uri": "https://localhost:8080/",
          "height": 184
        },
        "id": "quczuCCbHgM3",
        "outputId": "162ada78-34ab-44e6-f69f-6cd1e95acb8e"
      },
      "source": [
        "print(my_list[2])\n",
        "print(len(my_list))"
      ],
      "execution_count": null,
      "outputs": [
        {
          "output_type": "error",
          "ename": "IndexError",
          "evalue": "ignored",
          "traceback": [
            "\u001b[0;31m---------------------------------------------------------------------------\u001b[0m",
            "\u001b[0;31mIndexError\u001b[0m                                Traceback (most recent call last)",
            "\u001b[0;32m<ipython-input-199-5ba4e74a886e>\u001b[0m in \u001b[0;36m<module>\u001b[0;34m()\u001b[0m\n\u001b[0;32m----> 1\u001b[0;31m \u001b[0mprint\u001b[0m\u001b[0;34m(\u001b[0m\u001b[0mmy_list\u001b[0m\u001b[0;34m[\u001b[0m\u001b[0;36m2\u001b[0m\u001b[0;34m]\u001b[0m\u001b[0;34m)\u001b[0m\u001b[0;34m\u001b[0m\u001b[0;34m\u001b[0m\u001b[0m\n\u001b[0m\u001b[1;32m      2\u001b[0m \u001b[0mprint\u001b[0m\u001b[0;34m(\u001b[0m\u001b[0mlen\u001b[0m\u001b[0;34m(\u001b[0m\u001b[0mmy_list\u001b[0m\u001b[0;34m)\u001b[0m\u001b[0;34m)\u001b[0m\u001b[0;34m\u001b[0m\u001b[0;34m\u001b[0m\u001b[0m\n",
            "\u001b[0;31mIndexError\u001b[0m: list index out of range"
          ]
        }
      ]
    },
    {
      "cell_type": "code",
      "metadata": {
        "colab": {
          "base_uri": "https://localhost:8080/",
          "height": 236
        },
        "id": "3GCbGzYbk-32",
        "outputId": "c1bc6312-3fd5-4638-cd89-b59920dce3d1"
      },
      "source": [
        "url = 'https://raw.githubusercontent.com/tuttlepower/tuttlepower/master/tuttlepower_games.pgn'\n",
        "\n",
        "my_list = []\n",
        "while True:\n",
        "  game = chess.pgn.read_game(f)\n",
        "  if game is None:\n",
        "    break  # end of file\n",
        "  my_list.append(game)\n"
      ],
      "execution_count": null,
      "outputs": [
        {
          "output_type": "error",
          "ename": "TypeError",
          "evalue": "ignored",
          "traceback": [
            "\u001b[0;31m---------------------------------------------------------------------------\u001b[0m",
            "\u001b[0;31mTypeError\u001b[0m                                 Traceback (most recent call last)",
            "\u001b[0;32m<ipython-input-3-7b92bf6aa9b4>\u001b[0m in \u001b[0;36m<module>\u001b[0;34m()\u001b[0m\n\u001b[1;32m      2\u001b[0m \u001b[0;34m\u001b[0m\u001b[0m\n\u001b[1;32m      3\u001b[0m \u001b[0mmy_list\u001b[0m \u001b[0;34m=\u001b[0m \u001b[0;34m[\u001b[0m\u001b[0;34m]\u001b[0m\u001b[0;34m\u001b[0m\u001b[0;34m\u001b[0m\u001b[0m\n\u001b[0;32m----> 4\u001b[0;31m \u001b[0mf\u001b[0m \u001b[0;34m=\u001b[0m \u001b[0mopen\u001b[0m\u001b[0;34m(\u001b[0m\u001b[0mrequests\u001b[0m\u001b[0;34m.\u001b[0m\u001b[0mget\u001b[0m\u001b[0;34m(\u001b[0m\u001b[0murl\u001b[0m\u001b[0;34m)\u001b[0m\u001b[0;34m)\u001b[0m\u001b[0;34m\u001b[0m\u001b[0;34m\u001b[0m\u001b[0m\n\u001b[0m\u001b[1;32m      5\u001b[0m \u001b[0;32mwhile\u001b[0m \u001b[0;32mTrue\u001b[0m\u001b[0;34m:\u001b[0m\u001b[0;34m\u001b[0m\u001b[0;34m\u001b[0m\u001b[0m\n\u001b[1;32m      6\u001b[0m   \u001b[0mgame\u001b[0m \u001b[0;34m=\u001b[0m \u001b[0mchess\u001b[0m\u001b[0;34m.\u001b[0m\u001b[0mpgn\u001b[0m\u001b[0;34m.\u001b[0m\u001b[0mread_game\u001b[0m\u001b[0;34m(\u001b[0m\u001b[0mf\u001b[0m\u001b[0;34m)\u001b[0m\u001b[0;34m\u001b[0m\u001b[0;34m\u001b[0m\u001b[0m\n",
            "\u001b[0;31mTypeError\u001b[0m: expected str, bytes or os.PathLike object, not Response"
          ]
        }
      ]
    }
  ]
}